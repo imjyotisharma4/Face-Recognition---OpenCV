{
 "cells": [
  {
   "cell_type": "code",
   "execution_count": 31,
   "id": "e327995b",
   "metadata": {},
   "outputs": [
    {
     "name": "stdout",
     "output_type": "stream",
     "text": [
      "Requirement already satisfied: opencv-python in c:\\p\\lib\\site-packages (4.7.0.72)Note: you may need to restart the kernel to use updated packages.\n",
      "\n",
      "Requirement already satisfied: numpy>=1.17.0 in c:\\p\\lib\\site-packages (from opencv-python) (1.21.5)\n"
     ]
    }
   ],
   "source": [
    "pip install opencv-python"
   ]
  },
  {
   "cell_type": "code",
   "execution_count": 32,
   "id": "345a9af8",
   "metadata": {},
   "outputs": [],
   "source": [
    "import cv2 as cv"
   ]
  },
  {
   "cell_type": "code",
   "execution_count": 33,
   "id": "2a144d01",
   "metadata": {},
   "outputs": [],
   "source": [
    "import os"
   ]
  },
  {
   "cell_type": "code",
   "execution_count": 34,
   "id": "5ab39ddb",
   "metadata": {},
   "outputs": [],
   "source": [
    "import numpy as np"
   ]
  },
  {
   "cell_type": "code",
   "execution_count": 35,
   "id": "d29e2553",
   "metadata": {},
   "outputs": [],
   "source": [
    "# face detection"
   ]
  },
  {
   "cell_type": "code",
   "execution_count": 36,
   "id": "5bf2d525",
   "metadata": {},
   "outputs": [],
   "source": [
    "img=cv.imread('images_.jpg')\n",
    "cv.imshow('Beautiful woman',img)\n",
    "\n",
    "# Window containing a background is appearing- black screen"
   ]
  },
  {
   "cell_type": "code",
   "execution_count": 39,
   "id": "13a0011e",
   "metadata": {},
   "outputs": [
    {
     "data": {
      "text/plain": [
       "False"
      ]
     },
     "execution_count": 39,
     "metadata": {},
     "output_type": "execute_result"
    }
   ],
   "source": [
    "# hear_cascade.load('haarcascade_frontalface_default.xml')"
   ]
  },
  {
   "cell_type": "code",
   "execution_count": 46,
   "id": "acc29bcd",
   "metadata": {},
   "outputs": [
    {
     "name": "stdout",
     "output_type": "stream",
     "text": [
      "Number of faces found=1\n"
     ]
    },
    {
     "data": {
      "text/plain": [
       "-1"
      ]
     },
     "execution_count": 46,
     "metadata": {},
     "output_type": "execute_result"
    }
   ],
   "source": [
    "gray=cv.cvtColor(img,cv.COLOR_BGR2GRAY)\n",
    "cv.imshow('Gray Picture',gray)\n",
    "\n",
    "# gray screen will appear\n",
    "\n",
    "hear_cascade=cv.CascadeClassifier(cv.data.haarcascades+'haarcascade_frontalface_default.xml')\n",
    "# edges common in faces\n",
    "\n",
    "faces_rect=hear_cascade.detectMultiScale(gray,scaleFactor=1.1,minNeighbors=3)\n",
    "print(f'Number of faces found={len(faces_rect)}')\n",
    "\n",
    "# Draw rectangle around the faces\n",
    "for (x, y, w, h) in faces_rect:\n",
    "    cv.rectangle(img, (x, y), (x+w, y+h), (0,255,0),thickness=2)\n",
    "    \n",
    "    \n",
    "# Display the output\n",
    "cv.imshow('img', img)\n",
    "\n",
    "cv.waitKey(120)"
   ]
  },
  {
   "cell_type": "code",
   "execution_count": 24,
   "id": "86f0aba6",
   "metadata": {},
   "outputs": [
    {
     "data": {
      "text/plain": [
       "-1"
      ]
     },
     "execution_count": 24,
     "metadata": {},
     "output_type": "execute_result"
    }
   ],
   "source": [
    "cv.destroyAllWindows()\n",
    "\n",
    "cv.waitKey(60)\n",
    "\n",
    "\n",
    "# Close both the windows"
   ]
  },
  {
   "cell_type": "code",
   "execution_count": null,
   "id": "e1a668fa",
   "metadata": {},
   "outputs": [],
   "source": []
  },
  {
   "cell_type": "code",
   "execution_count": null,
   "id": "48b1a5b3",
   "metadata": {},
   "outputs": [],
   "source": []
  },
  {
   "cell_type": "code",
   "execution_count": null,
   "id": "a46d4cef",
   "metadata": {},
   "outputs": [],
   "source": []
  },
  {
   "cell_type": "code",
   "execution_count": null,
   "id": "0680fa27",
   "metadata": {},
   "outputs": [],
   "source": []
  },
  {
   "cell_type": "code",
   "execution_count": null,
   "id": "fa92e36d",
   "metadata": {},
   "outputs": [],
   "source": []
  },
  {
   "cell_type": "code",
   "execution_count": null,
   "id": "ee9f4e27",
   "metadata": {},
   "outputs": [],
   "source": []
  },
  {
   "cell_type": "code",
   "execution_count": null,
   "id": "bb913595",
   "metadata": {},
   "outputs": [],
   "source": []
  },
  {
   "cell_type": "code",
   "execution_count": null,
   "id": "4d910bb7",
   "metadata": {},
   "outputs": [],
   "source": []
  },
  {
   "cell_type": "code",
   "execution_count": null,
   "id": "5b48d39b",
   "metadata": {},
   "outputs": [],
   "source": []
  },
  {
   "cell_type": "code",
   "execution_count": null,
   "id": "8e196524",
   "metadata": {},
   "outputs": [],
   "source": []
  }
 ],
 "metadata": {
  "kernelspec": {
   "display_name": "Python 3 (ipykernel)",
   "language": "python",
   "name": "python3"
  },
  "language_info": {
   "codemirror_mode": {
    "name": "ipython",
    "version": 3
   },
   "file_extension": ".py",
   "mimetype": "text/x-python",
   "name": "python",
   "nbconvert_exporter": "python",
   "pygments_lexer": "ipython3",
   "version": "3.9.13"
  }
 },
 "nbformat": 4,
 "nbformat_minor": 5
}
